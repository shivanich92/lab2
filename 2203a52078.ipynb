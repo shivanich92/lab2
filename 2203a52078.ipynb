{
  "nbformat": 4,
  "nbformat_minor": 0,
  "metadata": {
    "colab": {
      "provenance": []
    },
    "kernelspec": {
      "name": "python3",
      "display_name": "Python 3"
    },
    "language_info": {
      "name": "python"
    }
  },
  "cells": [
    {
      "cell_type": "code",
      "execution_count": 11,
      "metadata": {
        "colab": {
          "base_uri": "https://localhost:8080/"
        },
        "id": "Kh5b7OI3TltA",
        "outputId": "e12a92d1-eed3-413b-f46b-12e33f472fa0"
      },
      "outputs": [
        {
          "output_type": "stream",
          "name": "stdout",
          "text": [
            "    Gender  Age Range  Head Size(cm^3)  Brain Weight(grams)\n",
            "0      0.0        0.0         1.000000             0.842932\n",
            "1      0.0        0.0         0.275959             0.232984\n",
            "2      0.0        0.0         0.765201             0.332461\n",
            "3      0.0        0.0         0.312442             0.193717\n",
            "4      0.0        0.0         0.686623             1.000000\n",
            "5      0.0        0.0         0.132834             0.240838\n",
            "6      0.0        0.0         0.319925             0.502618\n",
            "7      0.0        0.0         0.108513             0.123037\n",
            "8      0.0        1.0         0.159027             0.384817\n",
            "9      1.0        1.0         0.504210             0.437173\n",
            "10     1.0        1.0         0.000000             0.345550\n",
            "11     1.0        1.0         0.514500             0.450262\n",
            "12     1.0        1.0         0.184284             0.384817\n",
            "13     1.0        1.0         0.715622             0.821990\n",
            "14     1.0        1.0         0.363891             0.000000\n"
          ]
        }
      ],
      "source": [
        "import pandas as pd\n",
        "from sklearn.preprocessing import MinMaxScaler\n",
        "\n",
        "# Original data\n",
        "data = {\n",
        "    'Gender': [1, 1, 1, 1, 1, 1, 1, 1, 1, 2, 2, 2, 2, 2, 2],\n",
        "    'Age Range': [1, 1, 1, 1, 1, 1, 1, 1, 2, 2, 2, 2, 2, 2, 2],\n",
        "    'Head Size(cm^3)': [4512, 3738, 4261, 3777, 4177, 3585, 3785, 3559, 3613, 3982, 3443, 3993, 3640, 4208, 3832],\n",
        "    'Brain Weight(grams)': [1530, 1297, 1335, 1282, 1590, 1300, 1400, 1255, 1355, 1375, 1340, 1380, 1355, 1522, 1208]\n",
        "}\n",
        "\n",
        "df = pd.DataFrame(data)\n",
        "\n",
        "# Extracting numeric columns for scaling\n",
        "numeric_columns = df.select_dtypes(include=['float64', 'int64']).columns\n",
        "\n",
        "# Min-Max scaling\n",
        "scaler = MinMaxScaler()\n",
        "df[numeric_columns] = scaler.fit_transform(df[numeric_columns])\n",
        "\n",
        "# Display the normalized data\n",
        "print(df)"
      ]
    },
    {
      "cell_type": "code",
      "source": [
        "import pandas as pd\n",
        "\n",
        "# Load the dataset (replace 'path_to_file' with the actual path to the downloaded CSV file)\n",
        "file_path ='/content/housing.csv'\n",
        "housing_data = pd.read_csv(file_path)\n",
        "\n",
        "# a) Describe the data\n",
        "data_description = housing_data.describe()\n",
        "print(\"Data Description:\")\n",
        "print(data_description)\n",
        "\n",
        "# b) Find data type and shape of each column\n",
        "data_info = housing_data.info()\n",
        "print(\"\\nData Types and Shape:\")\n",
        "print(data_info)\n",
        "\n",
        "# c) Find null values and fill them with '0' or mean of the column\n",
        "null_values = housing_data.isnull().sum()\n",
        "print(\"\\nNull Values:\")\n",
        "print(null_values)\n",
        "\n",
        "# Assuming you want to fill null values with the mean of each column\n",
        "housing_data_filled = housing_data.fillna(housing_data.mean())\n"
      ],
      "metadata": {
        "colab": {
          "base_uri": "https://localhost:8080/"
        },
        "id": "9Yi-6LdVUTpW",
        "outputId": "9e178a02-c6b4-4488-807f-bb7b097ec10f"
      },
      "execution_count": 12,
      "outputs": [
        {
          "output_type": "stream",
          "name": "stdout",
          "text": [
            "Data Description:\n",
            "          longitude      latitude  housing_median_age   total_rooms  \\\n",
            "count  20640.000000  20640.000000        20640.000000  20640.000000   \n",
            "mean    -119.569704     35.631861           28.639486   2635.763081   \n",
            "std        2.003532      2.135952           12.585558   2181.615252   \n",
            "min     -124.350000     32.540000            1.000000      2.000000   \n",
            "25%     -121.800000     33.930000           18.000000   1447.750000   \n",
            "50%     -118.490000     34.260000           29.000000   2127.000000   \n",
            "75%     -118.010000     37.710000           37.000000   3148.000000   \n",
            "max     -114.310000     41.950000           52.000000  39320.000000   \n",
            "\n",
            "       total_bedrooms    population    households  median_income  \\\n",
            "count    20433.000000  20640.000000  20640.000000   20640.000000   \n",
            "mean       537.870553   1425.476744    499.539680       3.870671   \n",
            "std        421.385070   1132.462122    382.329753       1.899822   \n",
            "min          1.000000      3.000000      1.000000       0.499900   \n",
            "25%        296.000000    787.000000    280.000000       2.563400   \n",
            "50%        435.000000   1166.000000    409.000000       3.534800   \n",
            "75%        647.000000   1725.000000    605.000000       4.743250   \n",
            "max       6445.000000  35682.000000   6082.000000      15.000100   \n",
            "\n",
            "       median_house_value  \n",
            "count        20640.000000  \n",
            "mean        206855.816909  \n",
            "std         115395.615874  \n",
            "min          14999.000000  \n",
            "25%         119600.000000  \n",
            "50%         179700.000000  \n",
            "75%         264725.000000  \n",
            "max         500001.000000  \n",
            "<class 'pandas.core.frame.DataFrame'>\n",
            "RangeIndex: 20640 entries, 0 to 20639\n",
            "Data columns (total 10 columns):\n",
            " #   Column              Non-Null Count  Dtype  \n",
            "---  ------              --------------  -----  \n",
            " 0   longitude           20640 non-null  float64\n",
            " 1   latitude            20640 non-null  float64\n",
            " 2   housing_median_age  20640 non-null  float64\n",
            " 3   total_rooms         20640 non-null  float64\n",
            " 4   total_bedrooms      20433 non-null  float64\n",
            " 5   population          20640 non-null  float64\n",
            " 6   households          20640 non-null  float64\n",
            " 7   median_income       20640 non-null  float64\n",
            " 8   median_house_value  20640 non-null  float64\n",
            " 9   ocean_proximity     20640 non-null  object \n",
            "dtypes: float64(9), object(1)\n",
            "memory usage: 1.6+ MB\n",
            "\n",
            "Data Types and Shape:\n",
            "None\n",
            "\n",
            "Null Values:\n",
            "longitude               0\n",
            "latitude                0\n",
            "housing_median_age      0\n",
            "total_rooms             0\n",
            "total_bedrooms        207\n",
            "population              0\n",
            "households              0\n",
            "median_income           0\n",
            "median_house_value      0\n",
            "ocean_proximity         0\n",
            "dtype: int64\n"
          ]
        },
        {
          "output_type": "stream",
          "name": "stderr",
          "text": [
            "<ipython-input-12-fa4b845593fc>:23: FutureWarning: The default value of numeric_only in DataFrame.mean is deprecated. In a future version, it will default to False. In addition, specifying 'numeric_only=None' is deprecated. Select only valid columns or specify the value of numeric_only to silence this warning.\n",
            "  housing_data_filled = housing_data.fillna(housing_data.mean())\n"
          ]
        }
      ]
    },
    {
      "cell_type": "code",
      "source": [
        "import pandas as pd\n",
        "from sklearn.model_selection import train_test_split\n",
        "from sklearn.preprocessing import MinMaxScaler, OneHotEncoder\n",
        "from sklearn.compose import ColumnTransformer\n",
        "\n",
        "# Load the dataset (replace 'path_to_file' with the actual path to the downloaded CSV file)\n",
        "file_path = '/content/housing.csv'\n",
        "housing_data = pd.read_csv(file_path)\n",
        "\n",
        "# Identify non-numeric columns\n",
        "non_numeric_columns = housing_data.select_dtypes(exclude=['float64', 'int64']).columns\n",
        "\n",
        "# Separate features and target variable\n",
        "features = housing_data.drop(columns=['median_house_value'])\n",
        "target = housing_data['median_house_value']\n",
        "\n",
        "# Separate numeric and non-numeric features\n",
        "numeric_features = features.drop(columns=non_numeric_columns)\n",
        "categorical_features = features[non_numeric_columns]\n",
        "\n",
        "# Apply one-hot encoding to categorical features\n",
        "encoder = OneHotEncoder(drop='first', sparse=False)\n",
        "categorical_features_encoded = pd.DataFrame(encoder.fit_transform(categorical_features), columns=encoder.get_feature_names_out(categorical_features.columns))\n",
        "\n",
        "# Concatenate numeric and encoded categorical features\n",
        "features_processed = pd.concat([numeric_features, categorical_features_encoded], axis=1)\n",
        "\n",
        "# Normalize the data with min-max scaling\n",
        "scaler = MinMaxScaler()\n",
        "features_normalized = pd.DataFrame(scaler.fit_transform(features_processed), columns=features_processed.columns)\n",
        "\n",
        "# Split the data into train and test\n",
        "X_train, X_test, y_train, y_test = train_test_split(features_normalized, target, test_size=0.2, random_state=42)\n",
        "\n",
        "# Print information about the datasets\n",
        "print(\"Features:\")\n",
        "print(features.head())\n",
        "print(\"\\nTarget Variable:\")\n",
        "print(target.head())\n",
        "print(\"\\nNormalized Features:\")\n",
        "print(features_normalized.head())\n",
        "print(\"\\nTrain and Test Shapes:\")\n",
        "print(\"X_train:\", X_train.shape, \"X_test:\", X_test.shape, \"y_train:\", y_train.shape, \"y_test:\", y_test.shape)\n"
      ],
      "metadata": {
        "colab": {
          "base_uri": "https://localhost:8080/"
        },
        "id": "gvpSxKtnbbt9",
        "outputId": "bd92cced-b67d-49b3-881c-d068e455017f"
      },
      "execution_count": 22,
      "outputs": [
        {
          "output_type": "stream",
          "name": "stdout",
          "text": [
            "Features:\n",
            "   longitude  latitude  housing_median_age  total_rooms  total_bedrooms  \\\n",
            "0    -122.23     37.88                41.0        880.0           129.0   \n",
            "1    -122.22     37.86                21.0       7099.0          1106.0   \n",
            "2    -122.24     37.85                52.0       1467.0           190.0   \n",
            "3    -122.25     37.85                52.0       1274.0           235.0   \n",
            "4    -122.25     37.85                52.0       1627.0           280.0   \n",
            "\n",
            "   population  households  median_income ocean_proximity  \n",
            "0       322.0       126.0         8.3252        NEAR BAY  \n",
            "1      2401.0      1138.0         8.3014        NEAR BAY  \n",
            "2       496.0       177.0         7.2574        NEAR BAY  \n",
            "3       558.0       219.0         5.6431        NEAR BAY  \n",
            "4       565.0       259.0         3.8462        NEAR BAY  \n",
            "\n",
            "Target Variable:\n",
            "0    452600.0\n",
            "1    358500.0\n",
            "2    352100.0\n",
            "3    341300.0\n",
            "4    342200.0\n",
            "Name: median_house_value, dtype: float64\n",
            "\n",
            "Normalized Features:\n",
            "   longitude  latitude  housing_median_age  total_rooms  total_bedrooms  \\\n",
            "0   0.211155  0.567481            0.784314     0.022331        0.019863   \n",
            "1   0.212151  0.565356            0.392157     0.180503        0.171477   \n",
            "2   0.210159  0.564293            1.000000     0.037260        0.029330   \n",
            "3   0.209163  0.564293            1.000000     0.032352        0.036313   \n",
            "4   0.209163  0.564293            1.000000     0.041330        0.043296   \n",
            "\n",
            "   population  households  median_income  ocean_proximity_INLAND  \\\n",
            "0    0.008941    0.020556       0.539668                     0.0   \n",
            "1    0.067210    0.186976       0.538027                     0.0   \n",
            "2    0.013818    0.028943       0.466028                     0.0   \n",
            "3    0.015555    0.035849       0.354699                     0.0   \n",
            "4    0.015752    0.042427       0.230776                     0.0   \n",
            "\n",
            "   ocean_proximity_ISLAND  ocean_proximity_NEAR BAY  \\\n",
            "0                     0.0                       1.0   \n",
            "1                     0.0                       1.0   \n",
            "2                     0.0                       1.0   \n",
            "3                     0.0                       1.0   \n",
            "4                     0.0                       1.0   \n",
            "\n",
            "   ocean_proximity_NEAR OCEAN  \n",
            "0                         0.0  \n",
            "1                         0.0  \n",
            "2                         0.0  \n",
            "3                         0.0  \n",
            "4                         0.0  \n",
            "\n",
            "Train and Test Shapes:\n",
            "X_train: (16512, 12) X_test: (4128, 12) y_train: (16512,) y_test: (4128,)\n"
          ]
        },
        {
          "output_type": "stream",
          "name": "stderr",
          "text": [
            "/usr/local/lib/python3.10/dist-packages/sklearn/preprocessing/_encoders.py:868: FutureWarning: `sparse` was renamed to `sparse_output` in version 1.2 and will be removed in 1.4. `sparse_output` is ignored unless you leave `sparse` to its default value.\n",
            "  warnings.warn(\n"
          ]
        }
      ]
    }
  ]
}